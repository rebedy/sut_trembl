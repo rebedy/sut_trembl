{
 "cells": [
  {
   "cell_type": "markdown",
   "metadata": {},
   "source": [
    "# Uniprot unreviwed dataset TrEMBL Preprocess"
   ]
  },
  {
   "cell_type": "code",
   "execution_count": null,
   "metadata": {},
   "outputs": [],
   "source": [
    "import os\n",
    "import pandas as pd\n",
    "import numpy as np\n",
    "import time\n",
    "from tqdm.notebook import tqdm\n",
    "from functools import partial"
   ]
  },
  {
   "cell_type": "code",
   "execution_count": null,
   "metadata": {},
   "outputs": [],
   "source": [
    "rawfile_dir = '/home/edlab/ghhur/uniprot/unreviewed'\n",
    "rawfile_name = 'uniprot-reviewed_no.fasta'\n",
    "path = os.path.join(rawfile_dir, rawfile_name)"
   ]
  },
  {
   "cell_type": "code",
   "execution_count": null,
   "metadata": {},
   "outputs": [
    {
     "name": "stdout",
     "output_type": "stream",
     "text": [
      "511.6114776134491\n"
     ]
    }
   ],
   "source": [
    "start = time.time()\n",
    "with open(path, 'r') as f:\n",
    "    lines = f.read()\n",
    "    \n",
    "print(time.time()-start)    "
   ]
  },
  {
   "cell_type": "code",
   "execution_count": 6,
   "metadata": {},
   "outputs": [],
   "source": [
    "protein_split = lines.split('>')\n",
    "del protein_split[0]"
   ]
  },
  {
   "cell_type": "code",
   "execution_count": 7,
   "metadata": {},
   "outputs": [
    {
     "data": {
      "text/plain": [
       "'tr|A0A7W0KB97|A0A7W0KB97_9BACT Cobalamin-independent methionine synthase II family protein OS=Acidobacteria bacterium OX=1978231 GN=H0T71_16510 PE=4 SV=1\\nMIPTEPIGSIPRPPALIDAVQESGSEDARLELLYDEAIRDTIARFEATGSPIITDGEQRK\\nYHNFWTYCVHGLHNTAPDGFKIPFTAGHTRRMPRLTSGPFRYKRYADSYLDVANRYATVP\\nVKQAVISPSALSLMYPSEGLPDYSREQFIDDLLGEHEREIRRCFDKGAYKVQIDFTEGRL\\nAMKIDPSGELLHRFIDLNNLALSRFSAADRQRIGVHTCPGGDRDSTHSADVDYAELLPSL\\nFQLKVGNFYIALAGERDRVQVLKIIRQYLKPDQRVFVGVVAPIDPHVDSAEEVRDRVLEA\\nAEYLPLAQLGTTDDCGFSPFSDDTSTTRDTAFAKIRARVMGTRLASEALGAG\\n'"
      ]
     },
     "execution_count": 7,
     "metadata": {},
     "output_type": "execute_result"
    }
   ],
   "source": [
    "protein_split[0]"
   ]
  },
  {
   "cell_type": "code",
   "execution_count": 8,
   "metadata": {},
   "outputs": [
    {
     "data": {
      "text/plain": [
       "['tr|A0A7W0KB97|A0A7W0KB97_9BACT Cobalamin-independent methionine synthase II family protein OS=Acidobacteria bacterium OX=1978231 GN=H0T71_16510 PE=4 SV=1',\n",
       " 'MIPTEPIGSIPRPPALIDAVQESGSEDARLELLYDEAIRDTIARFEATGSPIITDGEQRK',\n",
       " 'YHNFWTYCVHGLHNTAPDGFKIPFTAGHTRRMPRLTSGPFRYKRYADSYLDVANRYATVP',\n",
       " 'VKQAVISPSALSLMYPSEGLPDYSREQFIDDLLGEHEREIRRCFDKGAYKVQIDFTEGRL',\n",
       " 'AMKIDPSGELLHRFIDLNNLALSRFSAADRQRIGVHTCPGGDRDSTHSADVDYAELLPSL',\n",
       " 'FQLKVGNFYIALAGERDRVQVLKIIRQYLKPDQRVFVGVVAPIDPHVDSAEEVRDRVLEA',\n",
       " 'AEYLPLAQLGTTDDCGFSPFSDDTSTTRDTAFAKIRARVMGTRLASEALGAG',\n",
       " '']"
      ]
     },
     "execution_count": 8,
     "metadata": {},
     "output_type": "execute_result"
    }
   ],
   "source": [
    "protein_split[0].split('\\n')"
   ]
  },
  {
   "cell_type": "code",
   "execution_count": 9,
   "metadata": {},
   "outputs": [
    {
     "data": {
      "text/plain": [
       "30"
      ]
     },
     "execution_count": 9,
     "metadata": {},
     "output_type": "execute_result"
    }
   ],
   "source": [
    "protein_split[0].split('\\n')[0].index(' ')"
   ]
  },
  {
   "cell_type": "code",
   "execution_count": 23,
   "metadata": {},
   "outputs": [
    {
     "data": {
      "application/vnd.jupyter.widget-view+json": {
       "model_id": "9457006b1bb443cf83f5ea4296222110",
       "version_major": 2,
       "version_minor": 0
      },
      "text/plain": [
       "HBox(children=(HTML(value=''), FloatProgress(value=0.0, max=219188305.0), HTML(value='')))"
      ]
     },
     "metadata": {},
     "output_type": "display_data"
    },
    {
     "name": "stdout",
     "output_type": "stream",
     "text": [
      "\n",
      "557.452529668808\n"
     ]
    }
   ],
   "source": [
    "start = time.time()\n",
    "dataset = {'accession_num':[], 'fasta_seq':[], 'other_info':[]}\n",
    "for protein in tqdm(protein_split):\n",
    "    splited = protein.split('\\n')\n",
    "    if len(splited) > 1:\n",
    "        seq = ''.join(splited[1:])\n",
    "        info = splited[0]\n",
    "        sep_index = info.index(' ')\n",
    "        accession = info[:sep_index]\n",
    "        others = info[sep_index+1:]\n",
    "        if len(seq) >=1024:\n",
    "            dataset['fasta_seq'].append(seq)\n",
    "            dataset['accession_num'].append(accession)\n",
    "            dataset['other_info'].append(info)\n",
    "print(time.time()-start)   "
   ]
  },
  {
   "cell_type": "code",
   "execution_count": null,
   "metadata": {},
   "outputs": [],
   "source": [
    "f.close()\n",
    "del lines"
   ]
  },
  {
   "cell_type": "code",
   "execution_count": 24,
   "metadata": {},
   "outputs": [],
   "source": [
    "df_protein = pd.DataFrame(dataset)"
   ]
  },
  {
   "cell_type": "code",
   "execution_count": 25,
   "metadata": {},
   "outputs": [
    {
     "data": {
      "text/html": [
       "<div>\n",
       "<style scoped>\n",
       "    .dataframe tbody tr th:only-of-type {\n",
       "        vertical-align: middle;\n",
       "    }\n",
       "\n",
       "    .dataframe tbody tr th {\n",
       "        vertical-align: top;\n",
       "    }\n",
       "\n",
       "    .dataframe thead th {\n",
       "        text-align: right;\n",
       "    }\n",
       "</style>\n",
       "<table border=\"1\" class=\"dataframe\">\n",
       "  <thead>\n",
       "    <tr style=\"text-align: right;\">\n",
       "      <th></th>\n",
       "      <th>accession_num</th>\n",
       "      <th>fasta_seq</th>\n",
       "      <th>other_info</th>\n",
       "    </tr>\n",
       "  </thead>\n",
       "  <tbody>\n",
       "    <tr>\n",
       "      <th>0</th>\n",
       "      <td>tr|A0A4P5QUR2|A0A4P5QUR2_9BACT</td>\n",
       "      <td>MIQPILQYRPLDRGFFIGLSEPSDIEEWQKQLRALPGDIIGRDRLT...</td>\n",
       "      <td>tr|A0A4P5QUR2|A0A4P5QUR2_9BACT Helicase OS=Aci...</td>\n",
       "    </tr>\n",
       "    <tr>\n",
       "      <th>1</th>\n",
       "      <td>tr|A0A1E8FRZ1|A0A1E8FRZ1_9MICC</td>\n",
       "      <td>MTSLFGKLGLKKRRSKFLATTGFTAATALLVTGAVLYPGFKTAELE...</td>\n",
       "      <td>tr|A0A1E8FRZ1|A0A1E8FRZ1_9MICC Uncharacterized...</td>\n",
       "    </tr>\n",
       "    <tr>\n",
       "      <th>2</th>\n",
       "      <td>tr|A0A7X8UEW1|A0A7X8UEW1_9BACT</td>\n",
       "      <td>MPKRKDINKILIIGSGPIIIGQACEFDYSGTQACKALRKLGYEIVL...</td>\n",
       "      <td>tr|A0A7X8UEW1|A0A7X8UEW1_9BACT Carbamoyl-phosp...</td>\n",
       "    </tr>\n",
       "    <tr>\n",
       "      <th>3</th>\n",
       "      <td>tr|K0EXL3|K0EXL3_9NOCA</td>\n",
       "      <td>MIPLSYAQRRLWFIHRLDGPSATYNMPLTVRLTGPFDARAFAAAVG...</td>\n",
       "      <td>tr|K0EXL3|K0EXL3_9NOCA Mycobactin synthetase p...</td>\n",
       "    </tr>\n",
       "    <tr>\n",
       "      <th>4</th>\n",
       "      <td>tr|A0A3M1WRI4|A0A3M1WRI4_9BACT</td>\n",
       "      <td>MCGKVQTDEHGNSSLGQKRGNGISLVGSRNNGIQVELIDQCDDATN...</td>\n",
       "      <td>tr|A0A3M1WRI4|A0A3M1WRI4_9BACT M28 family pept...</td>\n",
       "    </tr>\n",
       "    <tr>\n",
       "      <th>...</th>\n",
       "      <td>...</td>\n",
       "      <td>...</td>\n",
       "      <td>...</td>\n",
       "    </tr>\n",
       "    <tr>\n",
       "      <th>6205162</th>\n",
       "      <td>tr|A0A093EW74|A0A093EW74_TYTAL</td>\n",
       "      <td>EQKDLFNIISEGYEILNIHAPTHIFSVDQEESEHMPDKLEYLETDP...</td>\n",
       "      <td>tr|A0A093EW74|A0A093EW74_TYTAL Cardiomyopathy-...</td>\n",
       "    </tr>\n",
       "    <tr>\n",
       "      <th>6205163</th>\n",
       "      <td>tr|A0A091KFR2|A0A091KFR2_9GRUI</td>\n",
       "      <td>FHLLLSSLGKVEAALDLILINSFPLVGNSETSLICITSKWRSRESI...</td>\n",
       "      <td>tr|A0A091KFR2|A0A091KFR2_9GRUI Receptor protei...</td>\n",
       "    </tr>\n",
       "    <tr>\n",
       "      <th>6205164</th>\n",
       "      <td>tr|A0A091KGD1|A0A091KGD1_9GRUI</td>\n",
       "      <td>SRMPPGIYCPVEFWSKGENQNIQVDFLLPTGIYLRLSVSCNASLGT...</td>\n",
       "      <td>tr|A0A091KGD1|A0A091KGD1_9GRUI Phosphatidylino...</td>\n",
       "    </tr>\n",
       "    <tr>\n",
       "      <th>6205165</th>\n",
       "      <td>tr|A0A091KMF9|A0A091KMF9_9GRUI</td>\n",
       "      <td>VPCCRRERRRRHHMSVWEQRTSQLRRHMQMAEPPLINPHASIFRRK...</td>\n",
       "      <td>tr|A0A091KMF9|A0A091KMF9_9GRUI Voltage-depende...</td>\n",
       "    </tr>\n",
       "    <tr>\n",
       "      <th>6205166</th>\n",
       "      <td>tr|A0A093FR47|A0A093FR47_TYTAL</td>\n",
       "      <td>SWSSSEFDLNEIRLIVYQDCERRGRQVLFDSKAVRKIDEAVVQKMA...</td>\n",
       "      <td>tr|A0A093FR47|A0A093FR47_TYTAL Folliculin-inte...</td>\n",
       "    </tr>\n",
       "  </tbody>\n",
       "</table>\n",
       "<p>6205167 rows × 3 columns</p>\n",
       "</div>"
      ],
      "text/plain": [
       "                          accession_num  \\\n",
       "0        tr|A0A4P5QUR2|A0A4P5QUR2_9BACT   \n",
       "1        tr|A0A1E8FRZ1|A0A1E8FRZ1_9MICC   \n",
       "2        tr|A0A7X8UEW1|A0A7X8UEW1_9BACT   \n",
       "3                tr|K0EXL3|K0EXL3_9NOCA   \n",
       "4        tr|A0A3M1WRI4|A0A3M1WRI4_9BACT   \n",
       "...                                 ...   \n",
       "6205162  tr|A0A093EW74|A0A093EW74_TYTAL   \n",
       "6205163  tr|A0A091KFR2|A0A091KFR2_9GRUI   \n",
       "6205164  tr|A0A091KGD1|A0A091KGD1_9GRUI   \n",
       "6205165  tr|A0A091KMF9|A0A091KMF9_9GRUI   \n",
       "6205166  tr|A0A093FR47|A0A093FR47_TYTAL   \n",
       "\n",
       "                                                 fasta_seq  \\\n",
       "0        MIQPILQYRPLDRGFFIGLSEPSDIEEWQKQLRALPGDIIGRDRLT...   \n",
       "1        MTSLFGKLGLKKRRSKFLATTGFTAATALLVTGAVLYPGFKTAELE...   \n",
       "2        MPKRKDINKILIIGSGPIIIGQACEFDYSGTQACKALRKLGYEIVL...   \n",
       "3        MIPLSYAQRRLWFIHRLDGPSATYNMPLTVRLTGPFDARAFAAAVG...   \n",
       "4        MCGKVQTDEHGNSSLGQKRGNGISLVGSRNNGIQVELIDQCDDATN...   \n",
       "...                                                    ...   \n",
       "6205162  EQKDLFNIISEGYEILNIHAPTHIFSVDQEESEHMPDKLEYLETDP...   \n",
       "6205163  FHLLLSSLGKVEAALDLILINSFPLVGNSETSLICITSKWRSRESI...   \n",
       "6205164  SRMPPGIYCPVEFWSKGENQNIQVDFLLPTGIYLRLSVSCNASLGT...   \n",
       "6205165  VPCCRRERRRRHHMSVWEQRTSQLRRHMQMAEPPLINPHASIFRRK...   \n",
       "6205166  SWSSSEFDLNEIRLIVYQDCERRGRQVLFDSKAVRKIDEAVVQKMA...   \n",
       "\n",
       "                                                other_info  \n",
       "0        tr|A0A4P5QUR2|A0A4P5QUR2_9BACT Helicase OS=Aci...  \n",
       "1        tr|A0A1E8FRZ1|A0A1E8FRZ1_9MICC Uncharacterized...  \n",
       "2        tr|A0A7X8UEW1|A0A7X8UEW1_9BACT Carbamoyl-phosp...  \n",
       "3        tr|K0EXL3|K0EXL3_9NOCA Mycobactin synthetase p...  \n",
       "4        tr|A0A3M1WRI4|A0A3M1WRI4_9BACT M28 family pept...  \n",
       "...                                                    ...  \n",
       "6205162  tr|A0A093EW74|A0A093EW74_TYTAL Cardiomyopathy-...  \n",
       "6205163  tr|A0A091KFR2|A0A091KFR2_9GRUI Receptor protei...  \n",
       "6205164  tr|A0A091KGD1|A0A091KGD1_9GRUI Phosphatidylino...  \n",
       "6205165  tr|A0A091KMF9|A0A091KMF9_9GRUI Voltage-depende...  \n",
       "6205166  tr|A0A093FR47|A0A093FR47_TYTAL Folliculin-inte...  \n",
       "\n",
       "[6205167 rows x 3 columns]"
      ]
     },
     "execution_count": 25,
     "metadata": {},
     "output_type": "execute_result"
    }
   ],
   "source": [
    "df_protein"
   ]
  },
  {
   "cell_type": "code",
   "execution_count": 28,
   "metadata": {},
   "outputs": [],
   "source": [
    "unique_set = df_protein['fasta_seq'].unique()"
   ]
  },
  {
   "cell_type": "code",
   "execution_count": 30,
   "metadata": {
    "scrolled": true
   },
   "outputs": [
    {
     "data": {
      "text/plain": [
       "array(['MIQPILQYRPLDRGFFIGLSEPSDIEEWQKQLRALPGDIIGRDRLTPAKAQMFLADGTLVEVHGLPLRWQRAYVWLSSLSRYNGELSPSLRYWSAATRQLQSLVIRGAVLPKLNTDGNPWRAQWGASLTGPQDRQIIQALEAAMPPVCSAFPASDQYEFTKGTLLGNFDTYVLEGDDPLPLNSHEVLHAFLEDGIDFLIRYVAGGIRPGEDPRLAMLHRLRGHKRDRLPWDERLMVALSHPMNEFPNIGITERTLGDQLDQWSEGARPQWVRPSFRLESPPVPKGQQTVQEADRLSEGGWILGAGLETEQGTHISVEELWQVSNDPRVIQARQLLLRGIARATPFFKPLHKILAGQKPENLTLLPAEAWEFITQGASSLKEAGFMIHIPEAMAEFGGARRLRAKVRLGARVLESSAPTIQAGIEGSVSADWSLMLGNDALSMEDFSQMASLKHPLVAWKGKWVAIDPETMKQIMAIITASRGTGFESMTKGEAIAAALTGTARIPGVSETIEVEVAGDFGEALQQLHQLPDRPIQQPENFKGALRPYQLRGLAWLDGLDRLSLGGILADDMGLGKTIQVLALLLHRQLRSPKEGPPTLLVCPTSLLGNWEREVKKFSPSIPVFVHHGNNREELPSKFKPHTLVITTYGVIRREEDMFSGRHWSMIVIDEAQAIKNSTSAQAKAVRNLRGGFKLALTGTPIENRLTELWSIMTSVLPGYLSSESNFKDRFSTPIEKYRDPEAAEELRQRIGPFILRRLKTDRNIIQDLPEKNEMKVYTSLSKEQALLYQARVEQMEKDLEKATGMERRGKILALLTHLKQICNHPAHFLRSGGPYQGRSGKLDRLTEMLEEVIEGGEKAIIFTQFREMGNRLQEHLTSILGFQPPFLHGGSSREQRDEMVRSFQEDPFGSKVMLLSLKAGGVGLNLTAATHVFHFDRWWNPAVEDQATDRAYRIGQTKNVQVHKLITIGTLEEKVDAMLESKRDLADRVVGTGEGWLTELDDDALRRLVALDADSNTMETEGPALSMAEAKRLIASAPVVADENPEETP',\n",
       "       'MTSLFGKLGLKKRRSKFLATTGFTAATALLVTGAVLYPGFKTAELELNDGGVWVVSKTKNAVGRLNYPSRVLDGAVTPASTTFDVLQHSSDVFVDDSTGSTVNQVSAANLRLGGDKQLPGSSKVSFGTQVLSVTDPVKGRVWALTTSTVNSFDEENTEPVLQASPGAVSAVGQDNRIYTADPQKGEVTVTSVSPDGERLNSETTKIDDLKGAGDLQIAVVGDKPVILDAARGNLFLPGGRKLQLQDAREAKLQQSSGESGYAAIATPKTLIKQPLDGSTAAIVNAGGQGVPAAPVQVAGCTHSAWAGANKYIRDCTNDADDKSADVPKASGSPSYVFRVNRELVVLNDINSGNVWMVNQNMQLVNNWDDVIPPKNQSDEQDQDSADENTINVLPDRTKQNRPPETKPDDIGARPGRTTVMSVLDNDSDPDGDVLTASLGGNAPKSGSVESIYGGSAFQISVPADAKPGTEAIDYNAADGRGLSASGRINLRVVAPDENRAPVFKRANPTTLLVEQGKTVSQNILTDWVDPDGDDLVLMDAKADNPQDQVKIRRDGLLTYQDSGATAGKKNVTVSVWDGRTTATGRVVINVRPPGALQPVVNADHVTAVVGQDLVIAPLKNDVDPNGGALRLAHVEAAGPAELGPVTDGGTFTFRSKTPGPVYLTYIASNGPQSTQGLIRVDVESGKDVGNPVAVHDVALLPVGGNVLVDPLANDSDPSGGVLVLQSVTLPENATVSVSVIDHSVLRVTDVLGTQQPIVFRYTISNGQKSASGTVSVVPVPAPAVVEAPQPKPDEVNVRVNDVVTVPVLANDTHPQGEKMHVDPVLAQTIPEAEGKTFISEDKLRFIAGSVPKTVRAIYNAVDSQGQKSAAAVTIHILPLEGTQNSRPQPQNLTARVVAGGTVRIPVPLDGIDPDGDSVQLTGIDSTPGMGTATVGSSFIDFVAAGDGAGTDSFRYKVIDRQGAVNSGTVTVGIAPQGEENQKPAPVDDTVSVRPGRQIAVDALANDTDPDGDRIAIKADGIEADAALQANVSKNSGRIILTAPAKEGIVNVRYTVVDERGATAGATIRVNVKGNIPLQAPIARDDRVTSAQTMGKKAVDVPVLKNDEDPDGVGENLKVATAAETAKPGNDGNVVVQLTEGPQLVPYTVEDVDGQKSTAIIWVPGIGQQVPTLAKDEVIEIIAGQSVTVDLNEWVKVRDGRSPRLTEADRIKLIGADGGDPIANNGTAIKYTAGKDYVGPGSITFEVTDGTRTDDPNGQKATLSIRTKVLPDPNRNHPPTLLGSSLEVPQSDGASLELGRLTGDPDRDDVENMKYEITGGIPGGFDARVEGKTLRVSAKGEAKPGDAGRIQVKAKDSRGLEATATYSLSVTASNRPKPVANDDVEPEAKSGKPVTVKVLANDSNPFPDAPLKIVRASTETGQGTAVANGDSVTVTPAAGFSGSMIVAYTVQDKTGDVTRQATARIRLSVKDKPVAPTTPQAQSVGDRTALLNWTAPADRGSPITKYTVRGEGGFQQECPANTCTLTGLTNNVKYHFTVTATNAIGESAPSPASAEVRPDVKPETPLAPRLKFGDKQLTVTWTAPASKGSPIKSYDLEISPAPAGQNPQIQKLTSTTYVWKGLTNGVSYKVRVLARNDAKDPSEWSPYSAAEVPAGVPVTPAAPTVASAQPVGNQSQLRVTWTAPDNNGDAISEYTLTTRRGGTPISTQKVGTTAQNVTVDNSEANYSFTVSATNKAGTSGTSQPSAPIRAAGKPGTVTGGSVVAHGNSGELDARFTPLTAAQRNGSQADEIRYSYIASSGQRGPIAAGGGIISGLPNGQEITISIVATSTKNNISGDSTVIGKATPWGNPGAPNVQGQKSGNLDQRVYWTWNQPYDGGKAINRYEVSYEGGPWTSVGLNRQYSRDTNAYNATKNLKVRACNGMDGNKDCGAYGSANSTSGDAPPPPVKNTVKVNESDINTCTEVTGGNGYYGGTPKKCYGTVSPGGPGAPYPWLSTTDAPVEVDRCGSPWGSSGWYQIRGGAYDNRWVRADTVHFVSGSRPC',\n",
       "       'MPKRKDINKILIIGSGPIIIGQACEFDYSGTQACKALRKLGYEIVLVNSNPATIMTDPGMADRTYIEPLNLKSLTRIIERERPDALLPNLGGQTGLNLSSQLAAEGVLEKYGVRIIGVPAEAIERGEDRDAFKRTMTRLGIEMPRSEIALSLEEAERILERIDLPCVIRPAYTMGGTGGGLVYNLEEFRLVVNRGLAASLVGQVLVEESVEGWEELELEVVRDGKGQKITVCFIENIDAMGVHTGDSFCSAPMLTIAPELQRRLQEYSYAIVDAIGVIGGTNVQFAHDPRTGRVVVIEINPRTSRSSALASKATGFPIAYVSALLAGGLTLDEIPYWRDGTLDRYTPWGDYVVVKFARWAFEKFRGAQDRLGTQMRAVGEVMSIGKNYKEALQKAIRSLETGRLGLGFARDFHEKTLEELMGMLWHATSERQFIMYEALRKGATVAQLHERTHIKPWFIGQMKELVELEERILACRGKEFPDALFLQAKREGFADGYLARLTGAPEESIRERRLALGLAQAWEPVPVSGVDGAAYYYSTYNAPDRVPTSDRRKVMVLGGGPNRIGQGIEFDYCCVHAALALREMGYETIMVNCNPETVSTDYDTSDKLYFEPLTVEDVLGIYHKEKPEGVIVQFGGQTPLNICRSLEEAGVRILGTTPDTIDLAEDRDRFRTIVRKLGIPQPASGMARNLPEALSIAAEIGYPLMVRPSYVLGGRGMEVVHDEEDLTLYVSRAVEVWPDMPILIDKFLENALEVEADAISDGTDAFIPAIMEHIELAGIHSGDSACVIPPVSIPEHHRKTIAEYTRRLAIELGVLGLINIQYAIADGTVYILEANPRASRTVPLVSKVCNIQMVQAATRIMMGKSMGQLGLERRHIPHYGVKEAVFPFNMFPEVDPVLGPEMRSTGEVLGMADSFELAFHKAQEAAQQLLPRQGAVLLSVSDPDKNEALAVAREFSLLGFRLLATEGTQQFLSGYGIECDRILKLRSGRPNIVDAIKNGEVQLVVNTPVGKRSSDDDSYIRKTAIRYKVPYVTTMAAARAAARGIAAYARKEGAVLSLQEYHAGIGREPGS',\n",
       "       ...,\n",
       "       'SRMPPGIYCPVEFWSKGENQNIQVDFLLPTGIYLRLSVSCNASLGTIKQVVWKHAQYEPLYHMLSDPEAYVFTCINQTAEQQELEDEQRRLCDIQPSLPVLRLVAREGDRVKKVINSQISLLIGKGLHEFDSVHDPEVNDFRTKMCQFCEERAAKRQQLSWAAWMEYNFPLQLEPTAKSLGTGSLPTPSKNIFVNIKFQSGGESFTFHISPKEFPITLMSYAIKKQATVFRHETLDNPEDYTLQVNGKCEYLYGNYPLYQFQYIRSCLHRGLTPHLTMVHSSTIIAMRDEQTNCITSPPKMAAKPPPLPKKKPNYGSLWSLEQSFYIELVQGSKVNADERMKLVVQAGLFHGNEMLCKTVSSSEVNVCSEPVWKQRLDFDINICDLPRMARLCFALYAVVEKAKKARSTKKKSKKADCPIAWVNVMLFDYKDQLKTGECCLHMWSSFPDEKGELLNPMGTVQCNPNTESAAALVICFPSVVSHPVYYPSFEQVGDIDTFWEAQKFPGFAGGGAYSKLQLKEILERRSHTELYEHEKDLVWKMRYDICDQYPQALAKLLIITKWNKHEDVAQMISLLQTWPELPVLNALELLDFNFPDRYVGSFAINSLKKLTDHELFQYLLQLVQVLKYESYLDCELTKFLLDRALSNRKIGHFLFWHLRSEMHVPAVALRFGLILEAYCRGSTHHMKVLMKQGEALNKMKALNDFVKVSSQKATKPQTKEMMHMCMKQETYLEALSHLQSPLNPNIILAEVCVDQCTFMDSKMKPLWIVFNNEETGGGGVGIIFKNGDDLRQDMLTLQMIQLMDILWKQEGLDLRMTPYGCLSTGDKTGLIEVVMHSDTIANIQLNKSNMVATAAFNKDALLNWLKSKNPGTTEIQTCDSLTFSCSGYCVATYVLGIGDRHSDNIMIRETGQLFHIDFGHFLGNFKTKFGINRERVPFILTYDFVHVIQQGKTNNSEKFERFRDYCEKAYMILRRHGLLFLHLFALMKAAGLPELSCSKDIQYLKDSLALGKTDEEALKHFRLKFNEALRESWKTKVNWLAHNVSKDNR',\n",
       "       'VPCCRRERRRRHHMSVWEQRTSQLRRHMQMAEPPLINPHASIFRRKKPGDGVALEKCAEEQGGKGERPPAEGPEQVAPGANPGGGEDRRSPSPRAKRDKEPWHQKPCHGNCEPGEQDGTGGGIEDRARMRQSQRRSRHRRARMEGKELAGALGSRSASQETGLEGGSPTEGKDRHGDAAAVEALIQGEPDASREPIRTNGVPAGDAELVRTAEEGSPPQAAPEHPQGKVGSLTEQDCSSLDTSEQALLEASRTVSRSEPDLSSITPNTEKATESTAIMIDVHDSTVVQISNKTDGEASPLKEAETKEDEEQMEKKKRKKEKSETGKAMVPHSSMFIFSTTNPVRRACHYIVNLRYFEMCILLVIAASSIALAAEDPVLTNSDRNKVLRYFDYVFTGVFTFEMVIKMIDQGLILQDGSYFRDLWNILDFIVVVGALVAFALATNKGRDIKTIKSLRVLRVLRPLKTIKRLPKLKAVFDCVVTSLKNVFNILIVYKLFMFIFAVIAVQLFKGKFFYCTDSSKDTEKDCIGNYVDHEKNKMEVKCREWKRHEFHYDNIIWALLTLFTVSTGEGWPQVLQHSVDVTEEDRGPSRSNRMEMSIFYVVYFVVFPFFFVNIFVALIIITFQEQGDKMMEECSLEKNERACIDFAISAKPLTRYMPQNRHTFQYRVWHFVVSPSFEYTIMAMIALNTVVLMMKYYSAPYTYELALKYLNIAFTMVFSLECVLKIIAFGFLNYFRDTWNIFDFITVIGSITEIILTDTKLVNTSSFNMSFLKLFRAARLIKLLRQGYTIRILLWTFVQSFKALPYVCLLIAMLFFIYAIIGMQVFGNIKLDEESHINRHNNFRSFLGSLMLLFRSATGEAWQEIMLSCLEGKGCEPDTTATSGQNENERCGTDLAYVYFVSFIFFCSFLMLNLFVAVIMDNFEYLTRDSSILGPHHLDEFVRIWAEYDRAACGRIHYTEMYEMLTLMSPPLGLGKRCPSKVAYKRLVLMNMPVAEDMTVHFTSTLMALIRTALDIKIAKGGADWQQLDSELQKEILTIWPHLSQKMLDLLVPMPKTSDLTVGKIYAAMMIMDYYKQSKAKKQRQQLEEQKNAPMFQRMEPSSLPQEIISNAKALPYLQQDTLSGLSSRSGFPSLSPLSPQEIFQLACMDPAHGQFQEHQSLVVTDTSSMRRSFSTIRDKRTNSSWLDEFSMERSSDNTYKSRRRSYHSSLQLSARRLNADSGHRSDGHRSGGRERGRSKERKHLLSPDISRCNSEERSPQAHDESPERQRESRSPSEGRSQTPNRQGTGSLSESSIPSISDTSTPRRGRRQLPPVPPKPRPLLSYASMLRHAGDASPPPEES',\n",
       "       'SWSSSEFDLNEIRLIVYQDCERRGRQVLFDSKAVRKIDEAVVQKMAEDASVKTSVKNCQASNGNNNISSHSPSVSCMQSIKEQIPKYQYTRPASDVNMLGEMMFGSVAMSYKGSTLKIHYIRSPPQLMISKVFSARVGSFSGSNNNLQDSFEYINQDPGLGKLSSNQNGLGTCRSGSNLGLLQLYSSKLLQGMSEGGPLRLIRSASFFAAHSTPVDMPSRGQNEDRDSGIARSASLSSLLVTPFPSPSSSSSSSSSYQRRWLRSQTTSLENGIIPRWSTEEMFSMADESCSSNPAMVRRKKIAISIIFSLPEKEEAQRNFQDFFFSHFPLFESHMNKLKYAIEKAMISCRKIAESSQRVQVYISRVMDALGDFRVTIWNLYSVPRIAEPVWLNMMSSTLEKNQLCQRFLKEFTFLIEQINKNQFFAALLTAVLTYHLAWVPTVMPVDHPPVKAFSEKRTSHSVNMLAKSHPYNPLWAQLGDLYGAIGSPVRLTRTVIVGKRKELVQRLLYVLTYFIRCSELQENQLMWNEKAGEGEQVLNGSKITTALEKGEIEESDYVVVTVKNEPALVPPILPPKSDGSKNSSIAECVHDPESSHAVSTSSKERREAIGKTSQNSEASVDCLTSSFRKGAADGGKRAVTDTEIVSYHFEEPSKLEDLMDIKKNHQNERKVEKQLSGRSSALPCPERSGHRSSHLEKVTFQIGSSASPESDLETHRREMEANLKAFRKNPEVIYCTSSSTNLTVDASQNQKESCEAAFIPFSKHKVCYAQIPPCEGKESILNQHMESRGTEMNLANTISSEPLLPADNLETVKLPSLKEPRTLCSGNLENYSPGCVEVDSAVKQDSPKVGAQDVPYGDAGRKIPFRVEGDIPRNESSDSALGASDEEADCCIPDEVHHRNVSKRLEEFSEVELPLPRSNTVSSQCVKNFGRSLLGGYCHTYIPDLVLHGINNDEKLKQCLLADLLHAMHHPVLDEPIAEAVCIIADTDKWNVQVATSQRKLMDNMKLGKDVLVSSQVSSLLQSILQLYKLNVPADFCIMHLEDRLQEMYLKSKMLSEYLRGHTRVHVKELGIVLGIESNDLPLLAAIASTHSPYVAQILL'],\n",
       "      dtype=object)"
      ]
     },
     "execution_count": 30,
     "metadata": {},
     "output_type": "execute_result"
    }
   ],
   "source": [
    "unique_set"
   ]
  },
  {
   "cell_type": "markdown",
   "metadata": {},
   "source": [
    "# Convert to numpy "
   ]
  },
  {
   "cell_type": "code",
   "execution_count": null,
   "metadata": {},
   "outputs": [],
   "source": [
    "vocab_file = 'metadata/vocab.pkl'\n",
    "vocab = np.load(os.path.join(rawfile_dir, vocab_file), allow_pickle=True)"
   ]
  },
  {
   "cell_type": "code",
   "execution_count": 34,
   "metadata": {
    "scrolled": true
   },
   "outputs": [
    {
     "data": {
      "text/plain": [
       "{'R': 13,\n",
       " '[PAD]': 0,\n",
       " 'N': 17,\n",
       " 'U': 26,\n",
       " 'E': 9,\n",
       " 'A': 6,\n",
       " 'K': 12,\n",
       " 'V': 8,\n",
       " 'Z': 28,\n",
       " 'T': 15,\n",
       " '[MASK]': 4,\n",
       " 'D': 14,\n",
       " 'X': 25,\n",
       " 'B': 27,\n",
       " 'P': 16,\n",
       " 'L': 5,\n",
       " '[UNK]': 1,\n",
       " '[CLS]': 2,\n",
       " 'I': 11,\n",
       " 'G': 7,\n",
       " 'O': 29,\n",
       " 'Y': 20,\n",
       " 'C': 23,\n",
       " 'W': 24,\n",
       " 'F': 19,\n",
       " 'S': 10,\n",
       " 'M': 21,\n",
       " 'H': 22,\n",
       " 'Q': 18,\n",
       " '[SEP]': 3}"
      ]
     },
     "execution_count": 34,
     "metadata": {},
     "output_type": "execute_result"
    }
   ],
   "source": [
    "vocab\n",
    "# PAD = 0 UNK =1 CLS =2 SEP =3 "
   ]
  },
  {
   "cell_type": "code",
   "execution_count": 101,
   "metadata": {},
   "outputs": [],
   "source": [
    "max_length = 1024\n",
    "def length_filter(seq, max_length):\n",
    "    if len(seq) >= max_length:\n",
    "        return seq[:max_length]\n",
    "    else:\n",
    "        pad = np.zeros(max_length-len(seq))\n",
    "        return np.concatenate([seq, pad])"
   ]
  },
  {
   "cell_type": "code",
   "execution_count": 70,
   "metadata": {},
   "outputs": [],
   "source": [
    "def base2index(base, vocab):\n",
    "    return vocab[base]"
   ]
  },
  {
   "cell_type": "code",
   "execution_count": 75,
   "metadata": {},
   "outputs": [],
   "source": [
    "np.random.seed(seed=100)"
   ]
  },
  {
   "cell_type": "code",
   "execution_count": 77,
   "metadata": {},
   "outputs": [],
   "source": [
    "random_index = np.random.binomial(n=1, p=0.1, size=len(unique_set))"
   ]
  },
  {
   "cell_type": "code",
   "execution_count": 87,
   "metadata": {},
   "outputs": [],
   "source": [
    "selected_indices = np.where(random_index==1)"
   ]
  },
  {
   "cell_type": "code",
   "execution_count": 90,
   "metadata": {},
   "outputs": [],
   "source": [
    "protein_selected = unique_set[selected_indices]"
   ]
  },
  {
   "cell_type": "code",
   "execution_count": 91,
   "metadata": {},
   "outputs": [
    {
     "data": {
      "text/plain": [
       "594576"
      ]
     },
     "execution_count": 91,
     "metadata": {},
     "output_type": "execute_result"
    }
   ],
   "source": [
    "len(protein_selected)"
   ]
  },
  {
   "cell_type": "code",
   "execution_count": 103,
   "metadata": {},
   "outputs": [
    {
     "data": {
      "application/vnd.jupyter.widget-view+json": {
       "model_id": "401c057f798d40468e0aa27c19d7f5cd",
       "version_major": 2,
       "version_minor": 0
      },
      "text/plain": [
       "HBox(children=(HTML(value=''), FloatProgress(value=0.0, max=594576.0), HTML(value='')))"
      ]
     },
     "metadata": {},
     "output_type": "display_data"
    },
    {
     "name": "stdout",
     "output_type": "stream",
     "text": [
      "\n"
     ]
    }
   ],
   "source": [
    "input_indices = []\n",
    "for seq in tqdm(protein_selected):\n",
    "    indices = list(map(partial(base2index, vocab=vocab), seq))\n",
    "    indices = length_filter(indices, 1024)\n",
    "    input_indices.append(indices)"
   ]
  },
  {
   "cell_type": "code",
   "execution_count": 108,
   "metadata": {},
   "outputs": [],
   "source": [
    "array_1024 = np.array(input_indices).astype('int16')"
   ]
  },
  {
   "cell_type": "code",
   "execution_count": 141,
   "metadata": {},
   "outputs": [],
   "source": [
    "np.save(os.path.join(rawfile_dir, 'input_1024.npy'), array_1024,)"
   ]
  },
  {
   "cell_type": "markdown",
   "metadata": {},
   "source": [
    "# prepare 256, 512, 4096"
   ]
  },
  {
   "cell_type": "code",
   "execution_count": null,
   "metadata": {},
   "outputs": [],
   "source": [
    "rawfile_dir=\"/home/data_storage/dylee_135/trembl/\"\n",
    "\n",
    "#256, 512\n",
    "array_256 = array_1024[:, :256].astype('int16')\n",
    "array_512 = array_1024[:, 512].astype('int16')"
   ]
  },
  {
   "cell_type": "code",
   "execution_count": null,
   "metadata": {},
   "outputs": [],
   "source": [
    "np.save(os.path.join(rawfile_dir, 'input_256.npy'), array_256)\n",
    "np.save(os.path.join(rawfile_dir, 'input_512.npy'), array_512)"
   ]
  },
  {
   "cell_type": "code",
   "execution_count": null,
   "metadata": {},
   "outputs": [],
   "source": [
    "#4096\n",
    "# (1023 + [SEP] ) * 4\n",
    "\n",
    "def multiply(seq, length):\n",
    "    sep = np.array([3]) # sep token index 3\n",
    "    seq_ = seq[:length-1]\n",
    "    return np.concatenate([seq_, sep, seq_, sep, seq_, sep, seq_, sep])"
   ]
  },
  {
   "cell_type": "code",
   "execution_count": null,
   "metadata": {},
   "outputs": [
    {
     "data": {
      "application/vnd.jupyter.widget-view+json": {
       "model_id": "28486b02cc3c451f8723a29c6a034fa4",
       "version_major": 2,
       "version_minor": 0
      },
      "text/plain": [
       "HBox(children=(HTML(value=''), FloatProgress(value=0.0, max=594576.0), HTML(value='')))"
      ]
     },
     "metadata": {},
     "output_type": "display_data"
    },
    {
     "name": "stdout",
     "output_type": "stream",
     "text": [
      "\n"
     ]
    }
   ],
   "source": [
    "input_4096 = []\n",
    "for seq in tqdm(array_1024):\n",
    "    indices = list((multiply(seq, length=1024)))\n",
    "    input_4096.append(indices)"
   ]
  },
  {
   "cell_type": "code",
   "execution_count": null,
   "metadata": {},
   "outputs": [],
   "source": [
    "array_4096 = np.array(input_4096).astype('int16')"
   ]
  },
  {
   "cell_type": "code",
   "execution_count": null,
   "metadata": {},
   "outputs": [],
   "source": [
    "np.save(os.path.join(rawfile_dir, 'input_4096.npy'), array_4096,)"
   ]
  },
  {
   "cell_type": "code",
   "execution_count": null,
   "metadata": {},
   "outputs": [],
   "source": []
  }
 ],
 "metadata": {
  "interpreter": {
   "hash": "bbea2b9a1fbdb7b31ad7a53a7a428a2f58451eb6c98ebcb47c43861440fa438d"
  },
  "kernelspec": {
   "display_name": "Python 3.6.13 64-bit ('chexpert-label': conda)",
   "name": "python3"
  },
  "language_info": {
   "codemirror_mode": {
    "name": "ipython",
    "version": 3
   },
   "file_extension": ".py",
   "mimetype": "text/x-python",
   "name": "python",
   "nbconvert_exporter": "python",
   "pygments_lexer": "ipython3",
   "version": "3.6.13"
  }
 },
 "nbformat": 4,
 "nbformat_minor": 4
}
